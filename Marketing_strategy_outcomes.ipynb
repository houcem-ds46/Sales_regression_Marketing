{
 "cells": [
  {
   "cell_type": "markdown",
   "metadata": {},
   "source": [
    "# Predicting sales revenue by analysing marketing and communications vectors\n",
    "\n",
    "***Context***\n",
    "\n",
    "We have a set of data which will help us to determine which investment strategy is the best to generate more revenues.  For our marketing compaign we have three solutions : TV, radio and newspapers. The goal is to exploit the data we have and build a predictive model that will help us to invest in an optimal way.  \n",
    "\n",
    "***Summary***\n",
    "\n",
    "We start by manipulating and describing the data. Pandas and Numpy are used for that. Then we choose the performance metric R2 score and we build models using SciKit learn library.We use two different algorithms : decision tree and linear regression. We also have introduced a new feature to improve performance. "
   ]
  },
  {
   "cell_type": "markdown",
   "metadata": {},
   "source": [
    "# Import Libraries "
   ]
  },
  {
   "cell_type": "code",
   "execution_count": 188,
   "metadata": {},
   "outputs": [],
   "source": [
    "#author: houcem\n",
    "# import libraries\n",
    "import pandas as pd\n",
    "import numpy as np\n",
    "import matplotlib.pyplot as plt\n",
    "#%matplotlib inline\n",
    "np.random.seed(0)"
   ]
  },
  {
   "cell_type": "markdown",
   "metadata": {},
   "source": [
    "# Import data set "
   ]
  },
  {
   "cell_type": "code",
   "execution_count": 189,
   "metadata": {},
   "outputs": [
    {
     "name": "stdout",
     "output_type": "stream",
     "text": [
      "The data set shape is  (200, 4)\n"
     ]
    }
   ],
   "source": [
    "#Import the data set and display the first rows\n",
    "data = pd.read_csv('/home/houcem/Bureau/Advertising.csv')\n",
    "data = data.drop(\"Unnamed: 0\", axis=1)\n",
    "print('The data set shape is ', data.shape)"
   ]
  },
  {
   "cell_type": "code",
   "execution_count": 190,
   "metadata": {},
   "outputs": [
    {
     "data": {
      "text/html": [
       "<div>\n",
       "<style>\n",
       "    .dataframe thead tr:only-child th {\n",
       "        text-align: right;\n",
       "    }\n",
       "\n",
       "    .dataframe thead th {\n",
       "        text-align: left;\n",
       "    }\n",
       "\n",
       "    .dataframe tbody tr th {\n",
       "        vertical-align: top;\n",
       "    }\n",
       "</style>\n",
       "<table border=\"1\" class=\"dataframe\">\n",
       "  <thead>\n",
       "    <tr style=\"text-align: right;\">\n",
       "      <th></th>\n",
       "      <th>TV</th>\n",
       "      <th>radio</th>\n",
       "      <th>newspaper</th>\n",
       "      <th>sales</th>\n",
       "    </tr>\n",
       "  </thead>\n",
       "  <tbody>\n",
       "    <tr>\n",
       "      <th>0</th>\n",
       "      <td>230.1</td>\n",
       "      <td>37.8</td>\n",
       "      <td>69.2</td>\n",
       "      <td>22.1</td>\n",
       "    </tr>\n",
       "    <tr>\n",
       "      <th>1</th>\n",
       "      <td>44.5</td>\n",
       "      <td>39.3</td>\n",
       "      <td>45.1</td>\n",
       "      <td>10.4</td>\n",
       "    </tr>\n",
       "    <tr>\n",
       "      <th>2</th>\n",
       "      <td>17.2</td>\n",
       "      <td>45.9</td>\n",
       "      <td>69.3</td>\n",
       "      <td>9.3</td>\n",
       "    </tr>\n",
       "    <tr>\n",
       "      <th>3</th>\n",
       "      <td>151.5</td>\n",
       "      <td>41.3</td>\n",
       "      <td>58.5</td>\n",
       "      <td>18.5</td>\n",
       "    </tr>\n",
       "    <tr>\n",
       "      <th>4</th>\n",
       "      <td>180.8</td>\n",
       "      <td>10.8</td>\n",
       "      <td>58.4</td>\n",
       "      <td>12.9</td>\n",
       "    </tr>\n",
       "  </tbody>\n",
       "</table>\n",
       "</div>"
      ],
      "text/plain": [
       "      TV  radio  newspaper  sales\n",
       "0  230.1   37.8       69.2   22.1\n",
       "1   44.5   39.3       45.1   10.4\n",
       "2   17.2   45.9       69.3    9.3\n",
       "3  151.5   41.3       58.5   18.5\n",
       "4  180.8   10.8       58.4   12.9"
      ]
     },
     "execution_count": 190,
     "metadata": {},
     "output_type": "execute_result"
    }
   ],
   "source": [
    "data.head()"
   ]
  },
  {
   "cell_type": "markdown",
   "metadata": {},
   "source": [
    "# General descriptive insights \n",
    "We have 200 instances. Each of them has 3 features and one target variable : sales. Features represent the budget of investment in marketing compaigns using TV, Radio or Newspaper. \n",
    "All the parameters are continous. \n",
    "\n",
    "\n",
    "Let's analyse them further \n"
   ]
  },
  {
   "cell_type": "code",
   "execution_count": 191,
   "metadata": {},
   "outputs": [
    {
     "name": "stdout",
     "output_type": "stream",
     "text": [
      "count    200.000000\n",
      "mean      14.022500\n",
      "std        5.217457\n",
      "min        1.600000\n",
      "25%       10.375000\n",
      "50%       12.900000\n",
      "75%       17.400000\n",
      "max       27.000000\n",
      "Name: sales, dtype: float64\n"
     ]
    },
    {
     "data": {
      "image/png": "[encoded data removed]",
      "text/plain": [
       "<matplotlib.figure.Figure at 0x7f5a39c29a90>"
      ]
     },
     "metadata": {},
     "output_type": "display_data"
    }
   ],
   "source": [
    "# decribe sales \n",
    "print(data.sales.describe())\n",
    "\n",
    "plt.hist(data.sales, bins = 20)\n",
    "plt.show()"
   ]
  },
  {
   "cell_type": "markdown",
   "metadata": {},
   "source": [
    "Sales have a skrewed to the left distibution. Now let's look at features "
   ]
  },
  {
   "cell_type": "code",
   "execution_count": 192,
   "metadata": {},
   "outputs": [
    {
     "data": {
      "image/png": "[encoded data removed]",
      "text/plain": [
       "<matplotlib.figure.Figure at 0x7f5a33990f28>"
      ]
     },
     "metadata": {},
     "output_type": "display_data"
    }
   ],
   "source": [
    "data.hist()\n",
    "plt.show()"
   ]
  },
  {
   "cell_type": "code",
   "execution_count": 110,
   "metadata": {},
   "outputs": [
    {
     "data": {
      "image/png": "[encoded data removed]",
      "text/plain": [
       "<matplotlib.figure.Figure at 0x7f5a498c6dd8>"
      ]
     },
     "metadata": {},
     "output_type": "display_data"
    }
   ],
   "source": [
    "#see the general trend \n",
    "plt.figure(figsize=(15, 8))\n",
    "\n",
    "features = ['TV', 'radio', 'newspaper']\n",
    "# i: index\n",
    "for i, col in enumerate(features):\n",
    "    # 3 plots here hence 1, 3\n",
    "    plt.subplot(1, 3, i+1)\n",
    "    x = data[col]\n",
    "    sales = data.sales\n",
    "    plt.plot(x, sales, 'o')\n",
    "    # Create regression line\n",
    "    plt.plot(np.unique(x), np.poly1d(np.polyfit(x, sales, 1))(np.unique(x)))\n",
    "    plt.title(col)\n",
    "    plt.xlabel(col)\n",
    "    plt.ylabel('sales')\n",
    "plt.show()"
   ]
  },
  {
   "cell_type": "markdown",
   "metadata": {},
   "source": [
    "As we could expect, the more the marketing investment is higher , the best are the sales. "
   ]
  },
  {
   "cell_type": "markdown",
   "metadata": {},
   "source": [
    "# Performance metric : R2 score "
   ]
  },
  {
   "cell_type": "code",
   "execution_count": 193,
   "metadata": {},
   "outputs": [],
   "source": [
    "#  choose a performance metric\n",
    "from sklearn.metrics import r2_score\n",
    "\n",
    "def performance_metric(y_true, y_predict):\n",
    "    \"\"\" Calculates and returns the performance score between \n",
    "        true and predicted values based on the metric chosen. \"\"\"\n",
    "\n",
    "    # TODO: Calculate the performance score between 'y_true' and 'y_predict'\n",
    "    score = r2_score(y_true, y_predict)\n",
    "\n",
    "    # Return the score\n",
    "    return score  "
   ]
  },
  {
   "cell_type": "markdown",
   "metadata": {},
   "source": [
    "# Train test split "
   ]
  },
  {
   "cell_type": "code",
   "execution_count": 194,
   "metadata": {},
   "outputs": [
    {
     "name": "stdout",
     "output_type": "stream",
     "text": [
      " The number of training examples is  200\n",
      " Training data represent 80.0% of all data\n",
      " Testing data represent 20.0% of all data\n",
      "\n"
     ]
    }
   ],
   "source": [
    "# train_test_split\n",
    "from sklearn.cross_validation import train_test_split\n",
    "\n",
    "y = data[\"sales\"]\n",
    "X = data.drop(\"sales\", axis = 1)\n",
    "\n",
    "#Shuffle and split the data into training and testing subsets\n",
    "X_train, X_test, y_train, y_test = train_test_split(X, y , test_size=0.2, random_state=10)\n",
    "\n",
    "print(\" The number of training examples is \", y.shape[0])\n",
    "print(\" Training data represent {}% of all data\".format(100*float(X_train.shape[0]) / float(y.shape[0])))\n",
    "print(\" Testing data represent {}% of all data\\n\".format(100*float(X_test.shape[0]) / float(y.shape[0])))\n"
   ]
  },
  {
   "cell_type": "markdown",
   "metadata": {},
   "source": [
    "# Algorithm 1 : Decision tree regression "
   ]
  },
  {
   "cell_type": "code",
   "execution_count": 195,
   "metadata": {},
   "outputs": [],
   "source": [
    "'''\n",
    "Decision tree regressor  \n",
    "'''\n",
    "from sklearn.tree import DecisionTreeRegressor"
   ]
  },
  {
   "cell_type": "markdown",
   "metadata": {},
   "source": [
    "*** Some useful functions ***\n",
    "\n",
    "-These Model learning : Calculates the performance of several models with varying sizes of training data.The learning and testing scores for each model are then plotted.\n",
    "\n",
    "-Model complexity : Calculates the performance of the model as model complexity increases.The learning and testing errors rates are then plotted."
   ]
  },
  {
   "cell_type": "code",
   "execution_count": 196,
   "metadata": {},
   "outputs": [],
   "source": [
    "from sklearn.cross_validation import ShuffleSplit\n",
    "from sklearn.tree import DecisionTreeRegressor\n",
    "\n",
    "def ModelLearning(X, y):\n",
    "    \"\"\" Calculates the performance of several models with varying sizes of training data.\n",
    "        The learning and testing scores for each model are then plotted. \"\"\"\n",
    "    \n",
    "    # Create 10 cross-validation sets for training and testing\n",
    "    cv = ShuffleSplit(X.shape[0], n_iter = 10, test_size = 0.2, random_state = 0)\n",
    "\n",
    "    # Generate the training set sizes increasing by 50\n",
    "    train_sizes = np.rint(np.linspace(1, X.shape[0]*0.8 - 1, 9)).astype(int)\n",
    "\n",
    "    # Create the figure window\n",
    "    fig = plt.figure(figsize=(10,7))\n",
    "\n",
    "    # Create three different models based on max_depth\n",
    "    for k, depth in enumerate([1,3,6,10]):\n",
    "        \n",
    "        # Create a Decision tree regressor at max_depth = depth\n",
    "        regressor = DecisionTreeRegressor(max_depth = depth)\n",
    "\n",
    "        # Calculate the training and testing scores\n",
    "        sizes, train_scores, test_scores = curves.learning_curve(regressor, X, y, \\\n",
    "            cv = cv, train_sizes = train_sizes, scoring = 'r2')\n",
    "        \n",
    "        # Find the mean and standard deviation for smoothing\n",
    "        train_std = np.std(train_scores, axis = 1)\n",
    "        train_mean = np.mean(train_scores, axis = 1)\n",
    "        test_std = np.std(test_scores, axis = 1)\n",
    "        test_mean = np.mean(test_scores, axis = 1)\n",
    "\n",
    "        # Subplot the learning curve \n",
    "        ax = fig.add_subplot(2, 2, k+1)\n",
    "        ax.plot(sizes, train_mean, 'o-', color = 'r', label = 'Training Score')\n",
    "        ax.plot(sizes, test_mean, 'o-', color = 'g', label = 'Testing Score')\n",
    "        ax.fill_between(sizes, train_mean - train_std, \\\n",
    "            train_mean + train_std, alpha = 0.15, color = 'r')\n",
    "        ax.fill_between(sizes, test_mean - test_std, \\\n",
    "            test_mean + test_std, alpha = 0.15, color = 'g')\n",
    "        \n",
    "        # Labels\n",
    "        ax.set_title('max_depth = %s'%(depth))\n",
    "        ax.set_xlabel('Number of Training Points')\n",
    "        ax.set_ylabel('Score')\n",
    "        ax.set_xlim([0, X.shape[0]*0.8])\n",
    "        ax.set_ylim([-0.05, 1.05])\n",
    "    \n",
    "    # Visual aesthetics\n",
    "    ax.legend(bbox_to_anchor=(1.05, 2.05), loc='lower left', borderaxespad = 0.)\n",
    "    fig.suptitle('Decision Tree Regressor Learning Performances', fontsize = 16, y = 1.03)\n",
    "    fig.tight_layout()\n",
    "    fig.show()\n",
    "    \n",
    "def ModelComplexity(X, y):\n",
    "    \"\"\" Calculates the performance of the model as model complexity increases.\n",
    "        The learning and testing errors rates are then plotted. \"\"\"\n",
    "    \n",
    "    # Create 10 cross-validation sets for training and testing\n",
    "    cv = ShuffleSplit(X.shape[0], n_iter = 10, test_size = 0.2, random_state = 0)\n",
    "\n",
    "    # Vary the max_depth parameter from 1 to 10\n",
    "    max_depth = np.arange(1,11)\n",
    "\n",
    "    # Calculate the training and testing scores\n",
    "    train_scores, test_scores = curves.validation_curve(DecisionTreeRegressor(), X, y, \\\n",
    "        param_name = \"max_depth\", param_range = max_depth, cv = cv, scoring = 'r2')\n",
    "\n",
    "    # Find the mean and standard deviation for smoothing\n",
    "    train_mean = np.mean(train_scores, axis=1)\n",
    "    train_std = np.std(train_scores, axis=1)\n",
    "    test_mean = np.mean(test_scores, axis=1)\n",
    "    test_std = np.std(test_scores, axis=1)\n",
    "\n",
    "    # Plot the validation curve\n",
    "    plt.figure(figsize=(7, 5))\n",
    "    plt.title('Decision Tree Regressor Complexity Performance')\n",
    "    plt.plot(max_depth, train_mean, 'o-', color = 'r', label = 'Training Score')\n",
    "    plt.plot(max_depth, test_mean, 'o-', color = 'g', label = 'Validation Score')\n",
    "    plt.fill_between(max_depth, train_mean - train_std, \\\n",
    "        train_mean + train_std, alpha = 0.15, color = 'r')\n",
    "    plt.fill_between(max_depth, test_mean - test_std, \\\n",
    "        test_mean + test_std, alpha = 0.15, color = 'g')\n",
    "    \n",
    "    # Visual aesthetics\n",
    "    plt.legend(loc = 'lower right')\n",
    "    plt.xlabel('Maximum Depth')\n",
    "    plt.ylabel('Score')\n",
    "    plt.ylim([-0.05,1.05])\n",
    "    plt.show()\n",
    "    "
   ]
  },
  {
   "cell_type": "code",
   "execution_count": 197,
   "metadata": {},
   "outputs": [
    {
     "name": "stderr",
     "output_type": "stream",
     "text": [
      "/home/houcem/anaconda3/lib/python3.6/site-packages/matplotlib/figure.py:418: UserWarning: matplotlib is currently using a non-GUI backend, so cannot show the figure\n",
      "  \"matplotlib is currently using a non-GUI backend, \"\n"
     ]
    },
    {
     "data": {
      "image/png": "[encoded data removed]",
      "text/plain": [
       "<matplotlib.figure.Figure at 0x7f5a39dcb208>"
      ]
     },
     "metadata": {},
     "output_type": "display_data"
    },
    {
     "data": {
      "image/png": "[encoded data removed]",
      "text/plain": [
       "<matplotlib.figure.Figure at 0x7f5a39dcba90>"
      ]
     },
     "metadata": {},
     "output_type": "display_data"
    }
   ],
   "source": [
    "#Learning curves \n",
    "ModelLearning(X, y)\n",
    "ModelComplexity(X_train, y_train)\n"
   ]
  },
  {
   "cell_type": "markdown",
   "metadata": {},
   "source": [
    "By drawing learning curves and model complexity curve we can say that a choice of max-depth > 6  will garantee the best trade-off between underfitting and overfitting.\n",
    "\n",
    "To be sure about this let's conduct a gridSearch and find the optimal hyperparameter for a max_depth in  [1,2,3,4,5,6,7,8,9,10,11,12,15,20]"
   ]
  },
  {
   "cell_type": "code",
   "execution_count": 198,
   "metadata": {},
   "outputs": [],
   "source": [
    "from sklearn.grid_search import GridSearchCV\n",
    "from sklearn.metrics import make_scorer\n",
    "\n",
    "def fit_model(X, y):\n",
    "    \"\"\" Performs grid search over the 'max_depth' parameter for a \n",
    "        decision tree regressor trained on the input data [X, y]. \"\"\"\n",
    "\n",
    "    # Create cross-validation sets from the training data\n",
    "    # ShuffleSplit works iteratively compared to KFOLD\n",
    "    # It saves computation time when your dataset grows\n",
    "    # X.shape[0] is the total number of elements\n",
    "    # n_iter is the number of re-shuffling & splitting iterations.\n",
    "    cv_sets = ShuffleSplit(X.shape[0], n_iter = 10, test_size = 0.20, random_state = 0)\n",
    "\n",
    "    # TODO: Create a decision tree regressor object\n",
    "    # Instantiate\n",
    "    regressor = DecisionTreeRegressor(random_state=0)\n",
    "\n",
    "    # TODO: Create a dictionary for the parameter 'max_depth' with a range from 1 to 10\n",
    "    dt_range = [1,2,3,4,5,6,7,8,9,10,11,12,15,20]\n",
    "    params = dict(max_depth=dt_range)\n",
    "\n",
    "    # TODO: Transform 'performance_metric' into a scoring function using 'make_scorer' \n",
    "    # We initially created performance_metric using R2_score\n",
    "    scoring_fnc = make_scorer(performance_metric)\n",
    "\n",
    "    # TODO: Create the grid search object\n",
    "    # You would realize we manually created each, including scoring_func using R^2\n",
    "    grid = GridSearchCV(regressor, params, cv=cv_sets, scoring=scoring_fnc)\n",
    "\n",
    "    # Fit the grid search object to the data to compute the optimal model\n",
    "    grid = grid.fit(X, y)\n",
    "\n",
    "    # Return the optimal model after fitting the data\n",
    "    return grid.best_estimator_"
   ]
  },
  {
   "cell_type": "code",
   "execution_count": 199,
   "metadata": {},
   "outputs": [
    {
     "name": "stdout",
     "output_type": "stream",
     "text": [
      "Parameter 'max_depth' is 10 for the optimal model.\n",
      "The best decision tree model score on training data  0.999992021072\n",
      "The best decision tree model score on testing data  0.949457419338\n"
     ]
    }
   ],
   "source": [
    "# Fit the training data to the model using grid search\n",
    "best_decision_tree = fit_model(X_train, y_train) # reg is the best decision tree regressor\n",
    "# Produce the value for 'max_depth'\n",
    "print(\"Parameter 'max_depth' is {} for the optimal model.\".format(best_decision_tree.get_params()['max_depth']))\n",
    "\n",
    "print(\"The best decision tree model score on training data \", performance_metric(y_train,best_decision_tree.predict(X_train)))\n",
    "print(\"The best decision tree model score on testing data \", performance_metric(y_test,best_decision_tree.predict(X_test)))"
   ]
  },
  {
   "cell_type": "markdown",
   "metadata": {},
   "source": [
    "This decision tree model seems to have very good performances. Now let's try another algorithm "
   ]
  },
  {
   "cell_type": "markdown",
   "metadata": {},
   "source": [
    "# Algorithm 2 :  Linear regression"
   ]
  },
  {
   "cell_type": "code",
   "execution_count": 200,
   "metadata": {},
   "outputs": [
    {
     "data": {
      "text/plain": [
       "LinearRegression(copy_X=True, fit_intercept=True, n_jobs=1, normalize=False)"
      ]
     },
     "execution_count": 200,
     "metadata": {},
     "output_type": "execute_result"
    }
   ],
   "source": [
    "#linear regression \n",
    "from sklearn.linear_model import LinearRegression\n",
    "\n",
    "#fitting the training data \n",
    "linreg = LinearRegression()\n",
    "linreg.fit( X_train, y_train )"
   ]
  },
  {
   "cell_type": "code",
   "execution_count": 201,
   "metadata": {},
   "outputs": [
    {
     "name": "stdout",
     "output_type": "stream",
     "text": [
      "intercept term  is  3.25409711442\n"
     ]
    },
    {
     "data": {
      "text/plain": [
       "[('TV', 0.043772603063046034),\n",
       " ('Radio', 0.19343298611600768),\n",
       " ('Newspaper', -0.0022287928056053397)]"
      ]
     },
     "execution_count": 201,
     "metadata": {},
     "output_type": "execute_result"
    }
   ],
   "source": [
    "#display model data and weights\n",
    "print(\"intercept term  is \", linreg.intercept_)\n",
    "list( zip( [\"TV\", \"Radio\", \"Newspaper\"], list( linreg.coef_ ) ) )"
   ]
  },
  {
   "cell_type": "markdown",
   "metadata": {},
   "source": [
    "So, the linear equation found looks like\n",
    "\n",
    "Sales = 3.25 + 0.04 TV + 0.19 Radio -0.002 * Newspaper"
   ]
  },
  {
   "cell_type": "code",
   "execution_count": 202,
   "metadata": {},
   "outputs": [
    {
     "name": "stdout",
     "output_type": "stream",
     "text": [
      "Model score on training data is  0.92090875535\n",
      "Model score on testing data is  0.835367232467\n"
     ]
    }
   ],
   "source": [
    "#prediction and compute residuals \n",
    "y_pred = linreg.predict( X_test )\n",
    "\n",
    "test_pred_df = pd.DataFrame( { 'actual': y_test,\n",
    "                            'predicted': np.round( y_pred, 2),\n",
    "                            'residuals': y_test - y_pred } )\n",
    "    \n",
    "#rmse = np.sqrt( metrics.mean_squared_error( y_test, y_pred ) )\n",
    "print(\"Model score on training data is \", performance_metric(y_train,linreg.predict( X_train) ))\n",
    "print(\"Model score on testing data is \", performance_metric( y_test, y_pred ))\n"
   ]
  },
  {
   "cell_type": "markdown",
   "metadata": {},
   "source": [
    "Linear regression seems to have smaller performances if compared to previous decision tree algorithm. Let's check residuals "
   ]
  },
  {
   "cell_type": "code",
   "execution_count": 203,
   "metadata": {},
   "outputs": [
    {
     "data": {
      "text/html": [
       "<div>\n",
       "<style>\n",
       "    .dataframe thead tr:only-child th {\n",
       "        text-align: right;\n",
       "    }\n",
       "\n",
       "    .dataframe thead th {\n",
       "        text-align: left;\n",
       "    }\n",
       "\n",
       "    .dataframe tbody tr th {\n",
       "        vertical-align: top;\n",
       "    }\n",
       "</style>\n",
       "<table border=\"1\" class=\"dataframe\">\n",
       "  <thead>\n",
       "    <tr style=\"text-align: right;\">\n",
       "      <th></th>\n",
       "      <th>actual</th>\n",
       "      <th>predicted</th>\n",
       "      <th>residuals</th>\n",
       "    </tr>\n",
       "  </thead>\n",
       "  <tbody>\n",
       "    <tr>\n",
       "      <th>59</th>\n",
       "      <td>18.4</td>\n",
       "      <td>18.16</td>\n",
       "      <td>0.237470</td>\n",
       "    </tr>\n",
       "    <tr>\n",
       "      <th>5</th>\n",
       "      <td>7.2</td>\n",
       "      <td>12.93</td>\n",
       "      <td>-5.726632</td>\n",
       "    </tr>\n",
       "    <tr>\n",
       "      <th>20</th>\n",
       "      <td>18.0</td>\n",
       "      <td>18.05</td>\n",
       "      <td>-0.053110</td>\n",
       "    </tr>\n",
       "    <tr>\n",
       "      <th>198</th>\n",
       "      <td>25.5</td>\n",
       "      <td>23.64</td>\n",
       "      <td>1.855353</td>\n",
       "    </tr>\n",
       "    <tr>\n",
       "      <th>52</th>\n",
       "      <td>22.6</td>\n",
       "      <td>20.70</td>\n",
       "      <td>1.895616</td>\n",
       "    </tr>\n",
       "    <tr>\n",
       "      <th>19</th>\n",
       "      <td>14.6</td>\n",
       "      <td>14.28</td>\n",
       "      <td>0.317720</td>\n",
       "    </tr>\n",
       "    <tr>\n",
       "      <th>162</th>\n",
       "      <td>14.9</td>\n",
       "      <td>14.94</td>\n",
       "      <td>-0.044935</td>\n",
       "    </tr>\n",
       "    <tr>\n",
       "      <th>55</th>\n",
       "      <td>23.7</td>\n",
       "      <td>21.38</td>\n",
       "      <td>2.317670</td>\n",
       "    </tr>\n",
       "    <tr>\n",
       "      <th>69</th>\n",
       "      <td>22.3</td>\n",
       "      <td>21.18</td>\n",
       "      <td>1.124918</td>\n",
       "    </tr>\n",
       "    <tr>\n",
       "      <th>2</th>\n",
       "      <td>9.3</td>\n",
       "      <td>12.73</td>\n",
       "      <td>-3.431105</td>\n",
       "    </tr>\n",
       "  </tbody>\n",
       "</table>\n",
       "</div>"
      ],
      "text/plain": [
       "     actual  predicted  residuals\n",
       "59     18.4      18.16   0.237470\n",
       "5       7.2      12.93  -5.726632\n",
       "20     18.0      18.05  -0.053110\n",
       "198    25.5      23.64   1.855353\n",
       "52     22.6      20.70   1.895616\n",
       "19     14.6      14.28   0.317720\n",
       "162    14.9      14.94  -0.044935\n",
       "55     23.7      21.38   2.317670\n",
       "69     22.3      21.18   1.124918\n",
       "2       9.3      12.73  -3.431105"
      ]
     },
     "execution_count": 203,
     "metadata": {},
     "output_type": "execute_result"
    }
   ],
   "source": [
    "test_pred_df[0:10]"
   ]
  },
  {
   "cell_type": "code",
   "execution_count": 204,
   "metadata": {},
   "outputs": [
    {
     "data": {
      "image/png": "[encoded data removed]",
      "text/plain": [
       "<matplotlib.figure.Figure at 0x7f5a381816d8>"
      ]
     },
     "metadata": {},
     "output_type": "display_data"
    }
   ],
   "source": [
    "# check residuals distribution  \n",
    "import seaborn as sn\n",
    "residuals = y_test - y_pred\n",
    "sn.distplot(residuals)\n",
    "plt.show()"
   ]
  },
  {
   "cell_type": "markdown",
   "metadata": {},
   "source": [
    "The residuals are randomly distributed. There are no visible relationship. The model can be assumed to be correct. Let's make sure we have the optimal decision tree regressor\n"
   ]
  },
  {
   "cell_type": "code",
   "execution_count": 205,
   "metadata": {},
   "outputs": [
    {
     "name": "stdout",
     "output_type": "stream",
     "text": [
      "Best linear regressor score on training data is  0.92090875535\n",
      "Best linear regressor on testing data is  0.835367232467\n"
     ]
    }
   ],
   "source": [
    "# finding the best linear regressor \n",
    "linreg = LinearRegression()\n",
    "#hyperparameters range \n",
    "parameters = {'fit_intercept':[True,False], 'normalize':[True,False], 'copy_X':[True, False]}\n",
    "\n",
    "grid = GridSearchCV(linreg, parameters, cv=None)\n",
    "grid.fit(X_train, y_train)\n",
    "best_linear_regressor = grid.best_estimator_\n",
    "best_linear_regressor\n",
    "\n",
    "print(\"Best linear regressor score on training data is \", performance_metric(y_train,best_linear_regressor.predict( X_train) ))\n",
    "print(\"Best linear regressor on testing data is \", performance_metric( y_test, best_linear_regressor.predict( X_test) ))"
   ]
  },
  {
   "cell_type": "markdown",
   "metadata": {},
   "source": [
    "# Add a new feature \n"
   ]
  },
  {
   "cell_type": "markdown",
   "metadata": {},
   "source": [
    "Now we know that the weights of TV and radio are more important than newspapers, but maybe spending 10 000 on television ads and 10 000 on radio ads will result more sales than spending 20 000 to either TV or radio individually. This is known as a synergy effect. "
   ]
  },
  {
   "cell_type": "code",
   "execution_count": 206,
   "metadata": {},
   "outputs": [
    {
     "name": "stderr",
     "output_type": "stream",
     "text": [
      "/home/houcem/anaconda3/lib/python3.6/site-packages/ipykernel_launcher.py:4: SettingWithCopyWarning: \n",
      "A value is trying to be set on a copy of a slice from a DataFrame.\n",
      "Try using .loc[row_indexer,col_indexer] = value instead\n",
      "\n",
      "See the caveats in the documentation: http://pandas.pydata.org/pandas-docs/stable/indexing.html#indexing-view-versus-copy\n",
      "  after removing the cwd from sys.path.\n",
      "/home/houcem/anaconda3/lib/python3.6/site-packages/ipykernel_launcher.py:5: SettingWithCopyWarning: \n",
      "A value is trying to be set on a copy of a slice from a DataFrame.\n",
      "Try using .loc[row_indexer,col_indexer] = value instead\n",
      "\n",
      "See the caveats in the documentation: http://pandas.pydata.org/pandas-docs/stable/indexing.html#indexing-view-versus-copy\n",
      "  \"\"\"\n"
     ]
    },
    {
     "data": {
      "text/html": [
       "<div>\n",
       "<style>\n",
       "    .dataframe thead tr:only-child th {\n",
       "        text-align: right;\n",
       "    }\n",
       "\n",
       "    .dataframe thead th {\n",
       "        text-align: left;\n",
       "    }\n",
       "\n",
       "    .dataframe tbody tr th {\n",
       "        vertical-align: top;\n",
       "    }\n",
       "</style>\n",
       "<table border=\"1\" class=\"dataframe\">\n",
       "  <thead>\n",
       "    <tr style=\"text-align: right;\">\n",
       "      <th></th>\n",
       "      <th>TV</th>\n",
       "      <th>radio</th>\n",
       "      <th>newspaper</th>\n",
       "      <th>tv_radio</th>\n",
       "    </tr>\n",
       "  </thead>\n",
       "  <tbody>\n",
       "    <tr>\n",
       "      <th>190</th>\n",
       "      <td>39.5</td>\n",
       "      <td>41.1</td>\n",
       "      <td>5.8</td>\n",
       "      <td>1623.45</td>\n",
       "    </tr>\n",
       "    <tr>\n",
       "      <th>7</th>\n",
       "      <td>120.2</td>\n",
       "      <td>19.6</td>\n",
       "      <td>11.6</td>\n",
       "      <td>2355.92</td>\n",
       "    </tr>\n",
       "    <tr>\n",
       "      <th>26</th>\n",
       "      <td>142.9</td>\n",
       "      <td>29.3</td>\n",
       "      <td>12.6</td>\n",
       "      <td>4186.97</td>\n",
       "    </tr>\n",
       "    <tr>\n",
       "      <th>138</th>\n",
       "      <td>43.0</td>\n",
       "      <td>25.9</td>\n",
       "      <td>20.5</td>\n",
       "      <td>1113.70</td>\n",
       "    </tr>\n",
       "    <tr>\n",
       "      <th>58</th>\n",
       "      <td>210.8</td>\n",
       "      <td>49.6</td>\n",
       "      <td>37.7</td>\n",
       "      <td>10455.68</td>\n",
       "    </tr>\n",
       "  </tbody>\n",
       "</table>\n",
       "</div>"
      ],
      "text/plain": [
       "        TV  radio  newspaper  tv_radio\n",
       "190   39.5   41.1        5.8   1623.45\n",
       "7    120.2   19.6       11.6   2355.92\n",
       "26   142.9   29.3       12.6   4186.97\n",
       "138   43.0   25.9       20.5   1113.70\n",
       "58   210.8   49.6       37.7  10455.68"
      ]
     },
     "execution_count": 206,
     "metadata": {},
     "output_type": "execute_result"
    }
   ],
   "source": [
    "#creating a new feature\n",
    "#synergy effect or interaction effect\n",
    "\n",
    "X_train['tv_radio'] = X_train.TV * X_train.radio\n",
    "X_test['tv_radio'] = X_test.TV * X_test.radio\n",
    "\n",
    "X_train.head() "
   ]
  },
  {
   "cell_type": "markdown",
   "metadata": {},
   "source": [
    "## Decision tree "
   ]
  },
  {
   "cell_type": "code",
   "execution_count": 207,
   "metadata": {},
   "outputs": [
    {
     "name": "stdout",
     "output_type": "stream",
     "text": [
      "Parameter 'max_depth' is 6 for the optimal model.\n",
      "Model score on training data  0.997365976562\n",
      "Model score on testing data  0.985004485638\n"
     ]
    }
   ],
   "source": [
    "# Fit the training data to the model using grid search\n",
    "best_decision_tree = fit_model(X_train, y_train) # reg is the best decision tree regressor\n",
    "# Produce the value for 'max_depth'\n",
    "print(\"Parameter 'max_depth' is {} for the optimal model.\".format(best_decision_tree.get_params()['max_depth']))\n",
    "\n",
    "print(\"Model score on training data \", performance_metric(y_train,best_decision_tree.predict(X_train)))\n",
    "print(\"Model score on testing data \", performance_metric(y_test,best_decision_tree.predict(X_test)))"
   ]
  },
  {
   "cell_type": "code",
   "execution_count": 208,
   "metadata": {},
   "outputs": [
    {
     "data": {
      "image/png": "[encoded data removed]",
      "text/plain": [
       "<matplotlib.figure.Figure at 0x7f5a3816dcc0>"
      ]
     },
     "metadata": {},
     "output_type": "display_data"
    }
   ],
   "source": [
    "#compute residuals \n",
    "residuals = y_test - best_decision_tree.predict(X_test)\n",
    "sn.distplot( residuals )\n",
    "plt.show()"
   ]
  },
  {
   "cell_type": "markdown",
   "metadata": {},
   "source": [
    "## Linear regression "
   ]
  },
  {
   "cell_type": "markdown",
   "metadata": {},
   "source": [
    "## linear regressor "
   ]
  },
  {
   "cell_type": "code",
   "execution_count": 126,
   "metadata": {},
   "outputs": [
    {
     "name": "stdout",
     "output_type": "stream",
     "text": [
      "Best linear regressor score on training data is  0.972390810289\n",
      "Best linear regressor on testing data is  0.951271890603\n"
     ]
    }
   ],
   "source": [
    "# finding the best linear regressor \n",
    "linreg = LinearRegression()\n",
    "#hyperparameters range \n",
    "parameters = {'fit_intercept':[True,False], 'normalize':[True,False], 'copy_X':[True, False]}\n",
    "\n",
    "grid = GridSearchCV(linreg, parameters, cv=None)\n",
    "grid.fit(X_train, y_train)\n",
    "best_linear_regressor = grid.best_estimator_\n",
    "best_linear_regressor\n",
    "\n",
    "\n",
    "print(\"Best linear regressor score on training data is \", performance_metric(y_train,best_linear_regressor.predict( X_train) ))\n",
    "print(\"Best linear regressor on testing data is \", performance_metric( y_test, best_linear_regressor.predict( X_test) ))"
   ]
  },
  {
   "cell_type": "code",
   "execution_count": 128,
   "metadata": {},
   "outputs": [
    {
     "data": {
      "image/png": "[encoded data removed]",
      "text/plain": [
       "<matplotlib.figure.Figure at 0x7f5a38176828>"
      ]
     },
     "metadata": {},
     "output_type": "display_data"
    }
   ],
   "source": [
    "#compute residuals \n",
    "residuals = y_test - y_pred\n",
    "sn.distplot( residuals )\n",
    "plt.show()"
   ]
  },
  {
   "cell_type": "markdown",
   "metadata": {},
   "source": [
    "# Select decision tree model and k-cross validate it"
   ]
  },
  {
   "cell_type": "code",
   "execution_count": 131,
   "metadata": {},
   "outputs": [
    {
     "name": "stdout",
     "output_type": "stream",
     "text": [
      "Average r2 score:  0.98\n",
      "Standard deviation in r2 score:  0.01\n"
     ]
    }
   ],
   "source": [
    "from sklearn.model_selection import cross_val_score\n",
    "\n",
    "X['tv_radio'] = X.TV * X.radio\n",
    "\n",
    "cv_scores = cross_val_score(best_decision_tree, X, y, scoring = 'r2', cv = 10 )\n",
    "print( \"Average r2 score: \", np.round( np.mean( cv_scores ), 2 ) )\n",
    "print( \"Standard deviation in r2 score: \", np.round( np.std( cv_scores ), 2) )"
   ]
  },
  {
   "cell_type": "markdown",
   "metadata": {},
   "source": [
    "## How should we invest 200 millions "
   ]
  },
  {
   "cell_type": "code",
   "execution_count": 178,
   "metadata": {},
   "outputs": [
    {
     "name": "stdout",
     "output_type": "stream",
     "text": [
      "Preprocessed data:\n",
      " [[   20.            20.           180.           400.        ]\n",
      " [   20.           180.            20.          3600.        ]\n",
      " [  180.            20.            20.          3600.        ]\n",
      " [   80.            80.            40.          6400.        ]\n",
      " [   40.            80.            80.          3200.        ]\n",
      " [   80.            40.            80.          3200.        ]\n",
      " [   66.66666667    66.66666667    66.66666667  4444.44444444]]\n"
     ]
    }
   ],
   "source": [
    "#investment strategies \n",
    "#We have 200 millions and we simulate 7 different scenarios \n",
    "              # TV|Radio|Newspaper \n",
    "unseen_data = [[0.1, 0.1, 0.9],\n",
    "               [0.1, 0.9, 0.1],\n",
    "               [0.9, 0.1, 0.1],\n",
    "               [0.4, 0.4, 0.2],\n",
    "               [0.2, 0.4, 0.4],\n",
    "               [0.4, 0.2, 0.4],\n",
    "               [1/3, 1/3, 1/3]]\n",
    "\n",
    "\n",
    "#preprocess unseen_data\n",
    "a = np.array(unseen_data)\n",
    "a = a*200    # mulitply strategy by amout of total investment \n",
    "b = a[:,0] * a[:,1]  # create the new feature TV*Radio \n",
    "b = b.reshape(-1,1)\n",
    "unseen_data = np.concatenate((a, b), axis=1)\n",
    "\n",
    "print(\"Preprocessed data:\\n\", unseen_data)\n"
   ]
  },
  {
   "cell_type": "code",
   "execution_count": 180,
   "metadata": {},
   "outputs": [
    {
     "name": "stdout",
     "output_type": "stream",
     "text": [
      "Predicted sales for strategy 1 is : 7.30\n",
      "Predicted sales for strategy 2 is : 14.65\n",
      "Predicted sales for strategy 3 is : 15.18\n",
      "Predicted sales for strategy 4 is : 19.03\n",
      "Predicted sales for strategy 5 is : 13.60\n",
      "Predicted sales for strategy 6 is : 13.30\n",
      "Predicted sales for strategy 7 is : 15.90\n"
     ]
    }
   ],
   "source": [
    "# Show predictions\n",
    "for i, sales in enumerate(best_decision_tree.predict(unseen_data)):\n",
    "    print(\"Predicted sales for strategy {} is : {:,.2f}\".format(i+1, sales))"
   ]
  },
  {
   "cell_type": "markdown",
   "metadata": {},
   "source": []
  },
  {
   "cell_type": "code",
   "execution_count": 182,
   "metadata": {},
   "outputs": [
    {
     "data": {
      "image/png": "[encoded data removed]",
      "text/plain": [
       "<matplotlib.figure.Figure at 0x7f5a39bc8160>"
      ]
     },
     "metadata": {},
     "output_type": "display_data"
    }
   ],
   "source": [
    "#show the predicted sales in sales distribution \n",
    "plt.figure()\n",
    "plt.hist(y, bins = 20)\n",
    "for sales in best_decision_tree.predict(unseen_data):\n",
    "    plt.axvline(sales, lw = 5, c = 'r')\n",
    "plt.show() \n"
   ]
  },
  {
   "cell_type": "code",
   "execution_count": 184,
   "metadata": {},
   "outputs": [],
   "source": [
    "#useful function \n",
    "def PredictTrials(X, y, fitter, data):\n",
    "    \"\"\" Performs trials of fitting and predicting data. \"\"\"\n",
    "\n",
    "    # Store the predicted prices\n",
    "    prices = []\n",
    "\n",
    "    for k in range(10):\n",
    "        # Split the data\n",
    "        X_train, X_test, y_train, y_test = train_test_split(X, y, \\\n",
    "            test_size = 0.2, random_state = k)\n",
    "        \n",
    "        # Fit the data\n",
    "        reg = fitter(X_train, y_train)\n",
    "        \n",
    "        # Make a prediction\n",
    "        pred = reg.predict([data])\n",
    "        prices.append(float(pred))\n",
    "        \n",
    "        # Result\n",
    "        print(\"Trial {}: {:,.2f}\".format(k+1, float(pred)))\n",
    "\n",
    "    # Display price range\n",
    "    print (\"\\nRange in prices: {:,.2f}\".format(max(prices) - min(prices)))"
   ]
  },
  {
   "cell_type": "code",
   "execution_count": 176,
   "metadata": {},
   "outputs": [
    {
     "name": "stdout",
     "output_type": "stream",
     "text": [
      "\n",
      "Predictions for investment  1\n",
      "-------Investment : [TV | Radio | Newspaper] :  [  20.   20.  180.]\n",
      "Trial 1: 7.00\n",
      "Trial 2: 7.00\n",
      "Trial 3: 7.20\n",
      "Trial 4: 7.60\n",
      "Trial 5: 7.17\n",
      "Trial 6: 7.00\n",
      "Trial 7: 7.00\n",
      "Trial 8: 7.60\n",
      "Trial 9: 7.00\n",
      "Trial 10: 7.00\n",
      "\n",
      "Range in prices: 0.60\n",
      "\n",
      "Predictions for investment  2\n",
      "-------Investment : [TV | Radio | Newspaper] :  [  20.  180.   20.]\n",
      "Trial 1: 9.30\n",
      "Trial 2: 8.80\n",
      "Trial 3: 8.80\n",
      "Trial 4: 14.70\n",
      "Trial 5: 14.65\n",
      "Trial 6: 10.80\n",
      "Trial 7: 11.60\n",
      "Trial 8: 9.50\n",
      "Trial 9: 14.70\n",
      "Trial 10: 10.40\n",
      "\n",
      "Range in prices: 5.90\n",
      "\n",
      "Predictions for investment  3\n",
      "-------Investment : [TV | Radio | Newspaper] :  [ 180.   20.   20.]\n",
      "Trial 1: 14.53\n",
      "Trial 2: 14.60\n",
      "Trial 3: 14.60\n",
      "Trial 4: 14.50\n",
      "Trial 5: 14.65\n",
      "Trial 6: 14.40\n",
      "Trial 7: 14.60\n",
      "Trial 8: 14.65\n",
      "Trial 9: 14.40\n",
      "Trial 10: 14.40\n",
      "\n",
      "Range in prices: 0.25\n",
      "\n",
      "Predictions for investment  4\n",
      "-------Investment : [TV | Radio | Newspaper] :  [ 80.  80.  40.]\n",
      "Trial 1: 19.00\n",
      "Trial 2: 19.00\n",
      "Trial 3: 19.00\n",
      "Trial 4: 19.00\n",
      "Trial 5: 19.20\n",
      "Trial 6: 19.20\n",
      "Trial 7: 19.00\n",
      "Trial 8: 19.20\n",
      "Trial 9: 19.00\n",
      "Trial 10: 19.00\n",
      "\n",
      "Range in prices: 0.20\n",
      "\n",
      "Predictions for investment  5\n",
      "-------Investment : [TV | Radio | Newspaper] :  [ 40.  80.  80.]\n",
      "Trial 1: 13.30\n",
      "Trial 2: 14.40\n",
      "Trial 3: 13.30\n",
      "Trial 4: 14.70\n",
      "Trial 5: 14.65\n",
      "Trial 6: 10.10\n",
      "Trial 7: 11.60\n",
      "Trial 8: 14.50\n",
      "Trial 9: 14.70\n",
      "Trial 10: 10.40\n",
      "\n",
      "Range in prices: 4.60\n",
      "\n",
      "Predictions for investment  6\n",
      "-------Investment : [TV | Radio | Newspaper] :  [ 80.  40.  80.]\n",
      "Trial 1: 13.30\n",
      "Trial 2: 14.40\n",
      "Trial 3: 13.30\n",
      "Trial 4: 14.60\n",
      "Trial 5: 14.65\n",
      "Trial 6: 14.60\n",
      "Trial 7: 14.30\n",
      "Trial 8: 14.50\n",
      "Trial 9: 14.60\n",
      "Trial 10: 14.60\n",
      "\n",
      "Range in prices: 1.35\n",
      "\n",
      "Predictions for investment  7\n",
      "-------Investment : [TV | Radio | Newspaper] :  [ 66.66666667  66.66666667  66.66666667]\n",
      "Trial 1: 16.00\n",
      "Trial 2: 16.00\n",
      "Trial 3: 16.00\n",
      "Trial 4: 16.00\n",
      "Trial 5: 15.95\n",
      "Trial 6: 16.00\n",
      "Trial 7: 16.00\n",
      "Trial 8: 16.00\n",
      "Trial 9: 16.00\n",
      "Trial 10: 16.00\n",
      "\n",
      "Range in prices: 0.05\n"
     ]
    }
   ],
   "source": [
    "for i in range(0,len(unseen_data),1):\n",
    "    unseen = unseen_data[i, :]\n",
    "    print(\"\\nPredictions for investment \", i+1)\n",
    "    print(\"-------Investment : [TV | Radio | Newspaper] : \", unseen_data[i,0:3])\n",
    "    PredictTrials(X, y, fit_model, unseen)"
   ]
  },
  {
   "cell_type": "markdown",
   "metadata": {},
   "source": [
    "# Best strategy \n",
    "\n",
    "Depending on investment strategy we can see an important difference between revenues. We can sell 7.3 or 19.03 for the same invested money. \n",
    "We finally recommand the strategy in which we invest 40% 40% in TV and radio and only 20% in newspapers"
   ]
  }
 ],
 "metadata": {
  "kernelspec": {
   "display_name": "Python 3",
   "language": "python",
   "name": "python3"
  },
  "language_info": {
   "codemirror_mode": {
    "name": "ipython",
    "version": 3
   },
   "file_extension": ".py",
   "mimetype": "text/x-python",
   "name": "python",
   "nbconvert_exporter": "python",
   "pygments_lexer": "ipython3",
   "version": "3.6.4"
  }
 },
 "nbformat": 4,
 "nbformat_minor": 2
}
